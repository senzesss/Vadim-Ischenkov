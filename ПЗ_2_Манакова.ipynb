{
  "nbformat": 4,
  "nbformat_minor": 0,
  "metadata": {
    "colab": {
      "provenance": [],
      "authorship_tag": "ABX9TyNf1GdfYR7k6CZz8wQRsl+h"
    },
    "kernelspec": {
      "name": "python3",
      "display_name": "Python 3"
    },
    "language_info": {
      "name": "python"
    }
  },
  "cells": [
    {
      "cell_type": "code",
      "execution_count": null,
      "metadata": {
        "id": "wJ_gyAmSybqd",
        "colab": {
          "base_uri": "https://localhost:8080/"
        },
        "outputId": "b3bccae9-5768-44af-eb9e-a9762f38ccd9"
      },
      "outputs": [
        {
          "output_type": "stream",
          "name": "stdout",
          "text": [
            "Введите двухзначное число: 1\n",
            "Число должно быть двузначным.\n"
          ]
        }
      ],
      "source": [
        "number = input(\"Введите двухзначное число: \")\n",
        "\n",
        "while True:\n",
        "    try:\n",
        "        # Проверка на целое число\n",
        "        number = int(number)\n",
        "\n",
        "        # Проверка на двузначное число\n",
        "        if number < 10 or number > 99:\n",
        "            print(\"Число должно быть двузначным.\")\n",
        "            number = input(\"Попробуйте снова: \")\n",
        "            continue\n",
        "\n",
        "        # Поиск десятков и единиц\n",
        "        des = number // 10\n",
        "        ost = number % 10\n",
        "\n",
        "        # Вывод результата\n",
        "        print(\"Десятки:\", des)\n",
        "        print(\"Единицы:\", ost)\n",
        "        break\n",
        "\n",
        "    except ValueError:\n",
        "        print(\"Неправильно ввели число! Введите целое число.\")\n",
        "        number = input(\"Попробуйте снова: \")\n"
      ]
    }
  ]
}